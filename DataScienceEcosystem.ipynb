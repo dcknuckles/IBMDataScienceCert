{
 "cells": [
  {
   "cell_type": "markdown",
   "id": "64f3072b-a7c9-45e8-84bc-3db1c4503f2b",
   "metadata": {},
   "source": [
    "# Data Science Tools and Ecosystem"
   ]
  },
  {
   "cell_type": "markdown",
   "id": "94c46d5a-9c2d-4262-9289-77217a4c85f7",
   "metadata": {},
   "source": [
    "In this notebook, Data Science Tools and Ecosystem are summarized."
   ]
  },
  {
   "cell_type": "markdown",
   "id": "4fd05bb2-842e-45bf-92d2-db26d8aa18a0",
   "metadata": {},
   "source": [
    "**Objectives:**\n",
    "- List popular languages for Data Scientists\n",
    "- Knowledge of the commonly used libraries for data science.\n",
    "- List some data science tools\n",
    "- Understand simple arithmetic expression in Python"
   ]
  },
  {
   "cell_type": "markdown",
   "id": "01b8ae37-04d2-4110-842d-c431b6a27e95",
   "metadata": {},
   "source": [
    "Some of the popular languages that Data Scientists use are:\n",
    "1. Python\n",
    "2. R\n",
    "3. SQL\n",
    "4. Scala\n",
    "5. Java\n",
    "6. C++\n",
    "7. Julia"
   ]
  },
  {
   "cell_type": "markdown",
   "id": "8d3add4f-e306-494f-befb-ffdc8f8605ea",
   "metadata": {},
   "source": [
    "Some of the commonly used libraries used by Data Scientists include:\n",
    "1. Panda\n",
    "2. PyTorch\n",
    "3. PyTorch\n",
    "4. Scikit-Learn\n",
    "5. Numpy\n",
    "6. Kera\n",
    "7. TensorFlow"
   ]
  },
  {
   "cell_type": "markdown",
   "id": "9cd163ae-eac7-4ed8-809a-7b7fe91d3af0",
   "metadata": {},
   "source": [
    "|Data Science Tools|\n",
    "|--------|\n",
    "|Jupyter Notebook|\n",
    "|R-Studio|\n",
    "|PyCharm|"
   ]
  },
  {
   "cell_type": "markdown",
   "id": "93bc0dda-92e0-4eff-8716-241606f50020",
   "metadata": {},
   "source": [
    "### Below are a few examples of evaluating arithmetic expressions in Python."
   ]
  },
  {
   "cell_type": "code",
   "execution_count": 2,
   "id": "d4113ed3-5202-4a9e-88f3-6048b156a1ff",
   "metadata": {},
   "outputs": [
    {
     "data": {
      "text/plain": [
       "28"
      ]
     },
     "execution_count": 2,
     "metadata": {},
     "output_type": "execute_result"
    }
   ],
   "source": [
    "#This is a simple arithmetic expression to mutiply then add integers. \n",
    "\n",
    "(8*2)+12"
   ]
  },
  {
   "cell_type": "code",
   "execution_count": 6,
   "id": "850193be-8536-400a-bedd-56ed3642eb3a",
   "metadata": {},
   "outputs": [
    {
     "name": "stdout",
     "output_type": "stream",
     "text": [
      "3.3333333333333335\n"
     ]
    }
   ],
   "source": [
    "#This will convert 200 minutes to hours by dividing by 60. \n",
    "\n",
    "hour = 200/60\n",
    "print(hour)"
   ]
  },
  {
   "cell_type": "markdown",
   "id": "9dcc8310-0116-4641-9817-962ad88315d6",
   "metadata": {},
   "source": [
    "## Author"
   ]
  },
  {
   "cell_type": "markdown",
   "id": "c0f9430c-048f-4bb1-a536-4ddd47df5af3",
   "metadata": {},
   "source": [
    "Daivee Knuckles"
   ]
  },
  {
   "cell_type": "code",
   "execution_count": null,
   "id": "7b289ca6-7a76-4a1a-97e8-8f6e1764ec18",
   "metadata": {},
   "outputs": [],
   "source": []
  }
 ],
 "metadata": {
  "kernelspec": {
   "display_name": "Python",
   "language": "python",
   "name": "conda-env-python-py"
  },
  "language_info": {
   "codemirror_mode": {
    "name": "ipython",
    "version": 3
   },
   "file_extension": ".py",
   "mimetype": "text/x-python",
   "name": "python",
   "nbconvert_exporter": "python",
   "pygments_lexer": "ipython3",
   "version": "3.7.12"
  }
 },
 "nbformat": 4,
 "nbformat_minor": 5
}
