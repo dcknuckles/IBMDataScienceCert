{
  "metadata": {
    "language_info": {
      "codemirror_mode": {
        "name": "python",
        "version": 3
      },
      "file_extension": ".py",
      "mimetype": "text/x-python",
      "name": "python",
      "nbconvert_exporter": "python",
      "pygments_lexer": "ipython3",
      "version": "3.8"
    },
    "kernelspec": {
      "name": "python",
      "display_name": "Pyolite",
      "language": "python"
    }
  },
  "nbformat_minor": 4,
  "nbformat": 4,
  "cells": [
    {
      "cell_type": "markdown",
      "source": "# My Jupyter Notebook on IBM Watson Studio",
      "metadata": {
        "tags": []
      }
    },
    {
      "cell_type": "markdown",
      "source": "**Daivee Knuckles**\nData Scientist",
      "metadata": {}
    },
    {
      "cell_type": "markdown",
      "source": "_I am interested in Data Science because of my curiousity in human behaviors and problems, and for the opportunity to draw useful insights from data to help in the creation of innovation solutions that meet business needs and improve company values._  ",
      "metadata": {}
    },
    {
      "cell_type": "markdown",
      "source": "### Python print() Function - prints the specified message to the screen ",
      "metadata": {}
    },
    {
      "cell_type": "code",
      "source": "print (\"Hello, Data Science Community!\")",
      "metadata": {
        "tags": [],
        "trusted": true
      },
      "execution_count": 2,
      "outputs": [
        {
          "name": "stdout",
          "text": "Hello, Data Science Community!\n",
          "output_type": "stream"
        }
      ]
    },
    {
      "cell_type": "markdown",
      "source": "\n\n1. New Patients Information:\n| First Name | Last Name | Date of Birth |\n| :--- | --- | --- |\n| John | Doe | 3/12/1920 |\n| G.I | Joe | 6/5/1967 |\n| ~~`Sarah`~~ | Jones | 9/26/1977 |\n\n2. Existing Patients Information:\n    * No electronic records for DOB before 1978.\n    * Check the Archive folders for more details.\n",
      "metadata": {
        "tags": []
      }
    },
    {
      "cell_type": "code",
      "source": "",
      "metadata": {},
      "execution_count": null,
      "outputs": []
    }
  ]
}